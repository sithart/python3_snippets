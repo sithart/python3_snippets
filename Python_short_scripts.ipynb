{
 "cells": [
  {
   "cell_type": "markdown",
   "id": "fef3fe9f",
   "metadata": {},
   "source": [
    "# Google Play review scraper"
   ]
  },
  {
   "cell_type": "code",
   "execution_count": 1,
   "id": "e877c38f",
   "metadata": {},
   "outputs": [
    {
     "name": "stdout",
     "output_type": "stream",
     "text": [
      "Collecting google-play-scraper\n",
      "  Downloading google_play_scraper-1.2.2-py3-none-any.whl (28 kB)\n",
      "Installing collected packages: google-play-scraper\n",
      "Successfully installed google-play-scraper-1.2.2\n"
     ]
    },
    {
     "name": "stderr",
     "output_type": "stream",
     "text": [
      "WARNING: There was an error checking the latest version of pip.\n"
     ]
    }
   ],
   "source": [
    "!pip install google-play-scraper"
   ]
  },
  {
   "cell_type": "code",
   "execution_count": 2,
   "id": "613ec630",
   "metadata": {},
   "outputs": [
    {
     "name": "stdout",
     "output_type": "stream",
     "text": [
      "[{'reviewId': '99d60fd7-76e1-4c60-86b2-a8ea6835ccd1', 'userName': 'Irena Nikolovska', 'userImage': 'https://play-lh.googleusercontent.com/a-/AD5-WCmRUWUvTgrPaY7CHTgVQrYZhYduV6_WBSKkYxch', 'content': 'Excellent network every one has opportunity to grow and develop the skills. One of the best things is that we meet people from all over the world 🌎', 'score': 5, 'thumbsUpCount': 0, 'reviewCreatedVersion': '4.1.762', 'at': datetime.datetime(2022, 12, 31, 22, 56, 22), 'replyContent': None, 'repliedAt': None}, {'reviewId': 'f58bccad-b86e-4a51-bf92-d896c2bc4cc5', 'userName': 'brijesh tripathi', 'userImage': 'https://play-lh.googleusercontent.com/a/AEdFTp51NoVGrIb1iumQHmK_n5rlO0dUpdnygzRDkx6_mg=mo', 'content': 'Helping for getting the jobs', 'score': 5, 'thumbsUpCount': 0, 'reviewCreatedVersion': '4.1.766.1', 'at': datetime.datetime(2022, 12, 31, 21, 30, 58), 'replyContent': None, 'repliedAt': None}, {'reviewId': 'c78ac755-4663-4c51-8fac-f61be3670277', 'userName': 'Rajneesh Chaurasia', 'userImage': 'https://play-lh.googleusercontent.com/a/AEdFTp6A0SdLYzfZAsK0c1x3LDUY3_-o5Kh7Aey80fKG=mo', 'content': 'Xt', 'score': 5, 'thumbsUpCount': 0, 'reviewCreatedVersion': None, 'at': datetime.datetime(2022, 12, 31, 21, 12, 19), 'replyContent': None, 'repliedAt': None}, {'reviewId': '16dff3ff-77a6-488d-8f06-92e5e044aabb', 'userName': 'Katy Lofthouse', 'userImage': 'https://play-lh.googleusercontent.com/a-/AD5-WCnvIIIdhAmyPu7z6TLOqBDwO7ZvJa5hwi3fsDv-2Q', 'content': 'Best apps', 'score': 5, 'thumbsUpCount': 0, 'reviewCreatedVersion': '4.1.766.1', 'at': datetime.datetime(2022, 12, 31, 20, 35, 32), 'replyContent': None, 'repliedAt': None}, {'reviewId': '9231a753-da77-41fc-a57c-761ff1ff0f98', 'userName': 'TraymonsDS', 'userImage': 'https://play-lh.googleusercontent.com/a-/AD5-WCksjeH_jvHKNQUWZMT_fvIeElV7Vwl6m-VnHbN0', 'content': 'An excellent app with good functionalities. Mostly good for serious minded people, career driven personal and other professionals and high profile entrepreneurs', 'score': 5, 'thumbsUpCount': 0, 'reviewCreatedVersion': None, 'at': datetime.datetime(2022, 12, 31, 20, 30, 6), 'replyContent': None, 'repliedAt': None}, {'reviewId': 'bc7f15cc-9508-4809-9ba3-51c8cae9071e', 'userName': 'Hans raj Chouhan', 'userImage': 'https://play-lh.googleusercontent.com/a-/AD5-WCmBgbueTG8LofGclPlJmPn-ajJRZADa4snwImCgXA', 'content': 'Nice app for social media', 'score': 5, 'thumbsUpCount': 0, 'reviewCreatedVersion': '4.1.729', 'at': datetime.datetime(2022, 12, 31, 19, 52, 21), 'replyContent': None, 'repliedAt': None}, {'reviewId': '9ebc5a13-7711-4428-a9af-d4707d4f77fd', 'userName': 'Mian Ahmad Basit (MIAN Ahmad Basit)', 'userImage': 'https://play-lh.googleusercontent.com/a-/AD5-WCn75VspPmNqL83IkEuJVj7oX9y9vX8foZGzWEUBzYo', 'content': 'Awesome', 'score': 5, 'thumbsUpCount': 0, 'reviewCreatedVersion': '4.1.722', 'at': datetime.datetime(2022, 12, 31, 19, 42, 18), 'replyContent': None, 'repliedAt': None}, {'reviewId': 'b4bc1f8d-45af-4f3f-b9e2-224e5afcbad8', 'userName': 'Keshav Tarale', 'userImage': 'https://play-lh.googleusercontent.com/a-/AD5-WCk3nx6pxyN3W3jFaxF5IwpTYbGwy-vbOT-8XuYM', 'content': \"Hello friends my self Mr KESHAV RAJ DAULATRAO Tarale from Akola Maharashtra India i am a Brand ambassadors of Onpassive company working with be positive people's thoughts sharing bussiness adress.all is well with Onpassive company\", 'score': 5, 'thumbsUpCount': 0, 'reviewCreatedVersion': '4.1.766.1', 'at': datetime.datetime(2022, 12, 31, 19, 15, 16), 'replyContent': None, 'repliedAt': None}, {'reviewId': '9e701cc3-76cc-4b5d-8f2b-e6504745a064', 'userName': 'FATIMA UMER', 'userImage': 'https://play-lh.googleusercontent.com/a-/AD5-WCnV1EhNk4ItGZjkj-ix72FaRFg4CiRFpJfWLA1FwA', 'content': 'Perfect place to build up connections', 'score': 5, 'thumbsUpCount': 0, 'reviewCreatedVersion': '4.1.766.1', 'at': datetime.datetime(2022, 12, 31, 18, 37, 57), 'replyContent': None, 'repliedAt': None}, {'reviewId': '0d29d2b5-68c3-40aa-b0c5-1d3482e00486', 'userName': 'FREE FIRE GAME CHANNEL FREE FIRE GAME CHANNEL', 'userImage': 'https://play-lh.googleusercontent.com/a-/AD5-WCmWmDG1203cs0SVlWyUz_HPYGVxI6_4TUBfoSMf', 'content': 'Best app for earning money from 🏠🏠🏠', 'score': 5, 'thumbsUpCount': 0, 'reviewCreatedVersion': None, 'at': datetime.datetime(2022, 12, 31, 18, 2, 4), 'replyContent': None, 'repliedAt': None}]\n"
     ]
    }
   ],
   "source": [
    "from google_play_scraper import Sort, reviews\n",
    "\n",
    "result, _ = reviews(\n",
    "            'com.linkedin.android',\n",
    "lang='en',\n",
    "country='us',\n",
    "sort=Sort.NEWEST,\n",
    "count=10,\n",
    "filter_score_with=5)\n",
    "print(result)"
   ]
  },
  {
   "cell_type": "code",
   "execution_count": null,
   "id": "8a8a375a",
   "metadata": {},
   "outputs": [],
   "source": []
  }
 ],
 "metadata": {
  "kernelspec": {
   "display_name": "Python 3 (ipykernel)",
   "language": "python",
   "name": "python3"
  },
  "language_info": {
   "codemirror_mode": {
    "name": "ipython",
    "version": 3
   },
   "file_extension": ".py",
   "mimetype": "text/x-python",
   "name": "python",
   "nbconvert_exporter": "python",
   "pygments_lexer": "ipython3",
   "version": "3.10.2"
  }
 },
 "nbformat": 4,
 "nbformat_minor": 5
}
